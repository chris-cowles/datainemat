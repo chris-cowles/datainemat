{
 "cells": [
  {
   "cell_type": "markdown",
   "id": "2a23aba6",
   "metadata": {},
   "source": [
    "# Likes Report\n",
    "\n",
    "By: Chris Cowles\n",
    "\n",
    "9/15/22"
   ]
  },
  {
   "cell_type": "markdown",
   "id": "aa2427e5",
   "metadata": {},
   "source": [
    "This is data taken from my personal Instagram account. Instagram was the one who collected all of the data, and they collected this data to monetize and tailor ads to me. The data is very reliable because it is the complete record of my Instagram account, coming straight from Instagram. I do not believe that there is anything unreliable about the data, other than the possible conclusions that could be drawn from it."
   ]
  },
  {
   "cell_type": "code",
   "execution_count": 27,
   "id": "bd342a28",
   "metadata": {},
   "outputs": [],
   "source": [
    "import pandas as pd\n",
    "import json"
   ]
  },
  {
   "cell_type": "markdown",
   "id": "4bfbd610",
   "metadata": {},
   "source": [
    "I imported the modules I was going to use. Pandas is needed to use the DataFrame function, which is how the data is going to be organized. The JSON package is needed in order for Python to be able to read and open the JSON file."
   ]
  },
  {
   "cell_type": "code",
   "execution_count": 28,
   "id": "cdb1756b",
   "metadata": {},
   "outputs": [],
   "source": [
    "import os\n",
    "with open (os.path.expanduser(\"~/Desktop/Data In EMAT/liked_posts.json\")) as j: data = json.load(j)"
   ]
  },
  {
   "cell_type": "markdown",
   "id": "cf1d19cc",
   "metadata": {},
   "source": [
    "I imported the OS module to use the expanduser method. It is not needed to load the JSON file, but it shortens the filepath and makes the code look a little bit more neat. The json.load function loads the file, and saves it to a variable called data."
   ]
  },
  {
   "cell_type": "code",
   "execution_count": 29,
   "id": "e0bbe370",
   "metadata": {},
   "outputs": [
    {
     "data": {
      "text/plain": [
       "dict_keys(['likes_media_likes'])"
      ]
     },
     "execution_count": 29,
     "metadata": {},
     "output_type": "execute_result"
    }
   ],
   "source": [
    "data.keys()"
   ]
  },
  {
   "cell_type": "markdown",
   "id": "f93c1589",
   "metadata": {},
   "source": [
    "I used the .keys() method to extract the keys from the dictionary, returning an output of \"dict_keys(['likes_media_likes'])\""
   ]
  },
  {
   "cell_type": "code",
   "execution_count": 30,
   "id": "30290c93",
   "metadata": {},
   "outputs": [
    {
     "data": {
      "text/plain": [
       "{'title': 'shelbycowlesparker',\n",
       " 'media_list_data': [],\n",
       " 'string_list_data': [{'href': 'https://www.instagram.com/p/ZKCEDYxZjARiaEt7S4Fu1pbmCb8ZmIp0OHYPI0/',\n",
       "   'value': 'ð\\x9f\\x91\\x8d',\n",
       "   'timestamp': 1368293390}]}"
      ]
     },
     "execution_count": 30,
     "metadata": {},
     "output_type": "execute_result"
    }
   ],
   "source": [
    "data['likes_media_likes'][0]"
   ]
  },
  {
   "cell_type": "markdown",
   "id": "014fa85d",
   "metadata": {},
   "source": [
    "I used the 'likes_media_likes' key to do a deeper dive into the data. The timestamp value was under the string_list_data key! And the account value is under the title key."
   ]
  },
  {
   "cell_type": "code",
   "execution_count": 31,
   "id": "af980916",
   "metadata": {},
   "outputs": [],
   "source": [
    "timestamp = [x['string_list_data'][0]['timestamp'] for x in data['likes_media_likes']]"
   ]
  },
  {
   "cell_type": "markdown",
   "id": "aaba70b6",
   "metadata": {},
   "source": [
    "Assigning the timestamp a variable."
   ]
  },
  {
   "cell_type": "code",
   "execution_count": 34,
   "id": "2f5f29b3",
   "metadata": {},
   "outputs": [
    {
     "data": {
      "text/plain": [
       "[1368293390,\n",
       " 1366340832,\n",
       " 1366061146,\n",
       " 1362936536,\n",
       " 1361751547,\n",
       " 1360976863,\n",
       " 1360268467,\n",
       " 1359667012,\n",
       " 1351734794,\n",
       " 1421637642]"
      ]
     },
     "execution_count": 34,
     "metadata": {},
     "output_type": "execute_result"
    }
   ],
   "source": [
    "timestamp[0:10]"
   ]
  },
  {
   "cell_type": "markdown",
   "id": "e18db4ef",
   "metadata": {},
   "source": [
    "Checking to see timestamp's output"
   ]
  },
  {
   "cell_type": "code",
   "execution_count": 35,
   "id": "f51d2075",
   "metadata": {},
   "outputs": [],
   "source": [
    "accounts = [x['title'] for x in data['likes_media_likes'] ]\n"
   ]
  },
  {
   "cell_type": "markdown",
   "id": "5e06216f",
   "metadata": {},
   "source": [
    "Assigning the accounts section a variable"
   ]
  },
  {
   "cell_type": "code",
   "execution_count": 36,
   "id": "79b3bcb9",
   "metadata": {},
   "outputs": [
    {
     "data": {
      "text/plain": [
       "['shelbycowlesparker',\n",
       " 'zach_sf',\n",
       " 'shelbycowlesparker',\n",
       " 'zach_sf',\n",
       " 'zach_sf',\n",
       " 'zach_sf',\n",
       " 'zach_sf',\n",
       " 'zach_sf',\n",
       " 'kyle_smith83',\n",
       " 'shelbycowlesparker']"
      ]
     },
     "execution_count": 36,
     "metadata": {},
     "output_type": "execute_result"
    }
   ],
   "source": [
    "accounts[0:10]"
   ]
  },
  {
   "cell_type": "markdown",
   "id": "8b6ccb4f",
   "metadata": {},
   "source": [
    "Checking to see accounts's output"
   ]
  },
  {
   "cell_type": "code",
   "execution_count": 37,
   "id": "eff4bd65",
   "metadata": {},
   "outputs": [],
   "source": [
    "likes_df = pd.DataFrame({'accounts': accounts, 'timestamp': timestamp})"
   ]
  },
  {
   "cell_type": "markdown",
   "id": "8c511afe",
   "metadata": {},
   "source": [
    "Creating a DataFrame object using the pandas module. This uses the accounts and timestamp variables we just created."
   ]
  },
  {
   "cell_type": "code",
   "execution_count": 38,
   "id": "bdbb2b8b",
   "metadata": {},
   "outputs": [
    {
     "data": {
      "text/html": [
       "<div>\n",
       "<style scoped>\n",
       "    .dataframe tbody tr th:only-of-type {\n",
       "        vertical-align: middle;\n",
       "    }\n",
       "\n",
       "    .dataframe tbody tr th {\n",
       "        vertical-align: top;\n",
       "    }\n",
       "\n",
       "    .dataframe thead th {\n",
       "        text-align: right;\n",
       "    }\n",
       "</style>\n",
       "<table border=\"1\" class=\"dataframe\">\n",
       "  <thead>\n",
       "    <tr style=\"text-align: right;\">\n",
       "      <th></th>\n",
       "      <th>accounts</th>\n",
       "      <th>timestamp</th>\n",
       "    </tr>\n",
       "  </thead>\n",
       "  <tbody>\n",
       "    <tr>\n",
       "      <th>0</th>\n",
       "      <td>shelbycowlesparker</td>\n",
       "      <td>1368293390</td>\n",
       "    </tr>\n",
       "    <tr>\n",
       "      <th>1</th>\n",
       "      <td>zach_sf</td>\n",
       "      <td>1366340832</td>\n",
       "    </tr>\n",
       "    <tr>\n",
       "      <th>2</th>\n",
       "      <td>shelbycowlesparker</td>\n",
       "      <td>1366061146</td>\n",
       "    </tr>\n",
       "    <tr>\n",
       "      <th>3</th>\n",
       "      <td>zach_sf</td>\n",
       "      <td>1362936536</td>\n",
       "    </tr>\n",
       "    <tr>\n",
       "      <th>4</th>\n",
       "      <td>zach_sf</td>\n",
       "      <td>1361751547</td>\n",
       "    </tr>\n",
       "    <tr>\n",
       "      <th>...</th>\n",
       "      <td>...</td>\n",
       "      <td>...</td>\n",
       "    </tr>\n",
       "    <tr>\n",
       "      <th>1363</th>\n",
       "      <td>clickhole</td>\n",
       "      <td>1638405294</td>\n",
       "    </tr>\n",
       "    <tr>\n",
       "      <th>1364</th>\n",
       "      <td>harryrosenberg</td>\n",
       "      <td>1638221580</td>\n",
       "    </tr>\n",
       "    <tr>\n",
       "      <th>1365</th>\n",
       "      <td>owen_kung</td>\n",
       "      <td>1638149592</td>\n",
       "    </tr>\n",
       "    <tr>\n",
       "      <th>1366</th>\n",
       "      <td>coldhart_</td>\n",
       "      <td>1638118830</td>\n",
       "    </tr>\n",
       "    <tr>\n",
       "      <th>1367</th>\n",
       "      <td>jackson.roberts45</td>\n",
       "      <td>1638041034</td>\n",
       "    </tr>\n",
       "  </tbody>\n",
       "</table>\n",
       "<p>1368 rows × 2 columns</p>\n",
       "</div>"
      ],
      "text/plain": [
       "                accounts   timestamp\n",
       "0     shelbycowlesparker  1368293390\n",
       "1                zach_sf  1366340832\n",
       "2     shelbycowlesparker  1366061146\n",
       "3                zach_sf  1362936536\n",
       "4                zach_sf  1361751547\n",
       "...                  ...         ...\n",
       "1363           clickhole  1638405294\n",
       "1364      harryrosenberg  1638221580\n",
       "1365           owen_kung  1638149592\n",
       "1366           coldhart_  1638118830\n",
       "1367   jackson.roberts45  1638041034\n",
       "\n",
       "[1368 rows x 2 columns]"
      ]
     },
     "execution_count": 38,
     "metadata": {},
     "output_type": "execute_result"
    }
   ],
   "source": [
    "likes_df"
   ]
  },
  {
   "cell_type": "code",
   "execution_count": 39,
   "id": "dd14453c",
   "metadata": {},
   "outputs": [],
   "source": [
    "like_count = likes_df.groupby('accounts').count()"
   ]
  },
  {
   "cell_type": "markdown",
   "id": "2a804957",
   "metadata": {},
   "source": [
    "Using groupby and count methods to further sort the dataframe"
   ]
  },
  {
   "cell_type": "code",
   "execution_count": 40,
   "id": "15ed64b9",
   "metadata": {},
   "outputs": [
    {
     "data": {
      "text/html": [
       "<div>\n",
       "<style scoped>\n",
       "    .dataframe tbody tr th:only-of-type {\n",
       "        vertical-align: middle;\n",
       "    }\n",
       "\n",
       "    .dataframe tbody tr th {\n",
       "        vertical-align: top;\n",
       "    }\n",
       "\n",
       "    .dataframe thead th {\n",
       "        text-align: right;\n",
       "    }\n",
       "</style>\n",
       "<table border=\"1\" class=\"dataframe\">\n",
       "  <thead>\n",
       "    <tr style=\"text-align: right;\">\n",
       "      <th></th>\n",
       "      <th>timestamp</th>\n",
       "    </tr>\n",
       "    <tr>\n",
       "      <th>accounts</th>\n",
       "      <th></th>\n",
       "    </tr>\n",
       "  </thead>\n",
       "  <tbody>\n",
       "    <tr>\n",
       "      <th>1davidshawty</th>\n",
       "      <td>6</td>\n",
       "    </tr>\n",
       "    <tr>\n",
       "      <th>2.angiee</th>\n",
       "      <td>4</td>\n",
       "    </tr>\n",
       "    <tr>\n",
       "      <th>2001trashstar</th>\n",
       "      <td>2</td>\n",
       "    </tr>\n",
       "    <tr>\n",
       "      <th>87_records_official</th>\n",
       "      <td>1</td>\n",
       "    </tr>\n",
       "    <tr>\n",
       "      <th>__reignlove</th>\n",
       "      <td>1</td>\n",
       "    </tr>\n",
       "    <tr>\n",
       "      <th>...</th>\n",
       "      <td>...</td>\n",
       "    </tr>\n",
       "    <tr>\n",
       "      <th>yungster_jack</th>\n",
       "      <td>2</td>\n",
       "    </tr>\n",
       "    <tr>\n",
       "      <th>yungtish</th>\n",
       "      <td>2</td>\n",
       "    </tr>\n",
       "    <tr>\n",
       "      <th>zach_sf</th>\n",
       "      <td>32</td>\n",
       "    </tr>\n",
       "    <tr>\n",
       "      <th>zacharykjackson</th>\n",
       "      <td>1</td>\n",
       "    </tr>\n",
       "    <tr>\n",
       "      <th>zerohoots3pac</th>\n",
       "      <td>68</td>\n",
       "    </tr>\n",
       "  </tbody>\n",
       "</table>\n",
       "<p>384 rows × 1 columns</p>\n",
       "</div>"
      ],
      "text/plain": [
       "                     timestamp\n",
       "accounts                      \n",
       "1davidshawty                 6\n",
       "2.angiee                     4\n",
       "2001trashstar                2\n",
       "87_records_official          1\n",
       "__reignlove                  1\n",
       "...                        ...\n",
       "yungster_jack                2\n",
       "yungtish                     2\n",
       "zach_sf                     32\n",
       "zacharykjackson              1\n",
       "zerohoots3pac               68\n",
       "\n",
       "[384 rows x 1 columns]"
      ]
     },
     "execution_count": 40,
     "metadata": {},
     "output_type": "execute_result"
    }
   ],
   "source": [
    "like_count"
   ]
  },
  {
   "cell_type": "code",
   "execution_count": 41,
   "id": "c299fa60",
   "metadata": {},
   "outputs": [
    {
     "data": {
      "text/html": [
       "<div>\n",
       "<style scoped>\n",
       "    .dataframe tbody tr th:only-of-type {\n",
       "        vertical-align: middle;\n",
       "    }\n",
       "\n",
       "    .dataframe tbody tr th {\n",
       "        vertical-align: top;\n",
       "    }\n",
       "\n",
       "    .dataframe thead th {\n",
       "        text-align: right;\n",
       "    }\n",
       "</style>\n",
       "<table border=\"1\" class=\"dataframe\">\n",
       "  <thead>\n",
       "    <tr style=\"text-align: right;\">\n",
       "      <th></th>\n",
       "      <th>timestamp</th>\n",
       "    </tr>\n",
       "    <tr>\n",
       "      <th>accounts</th>\n",
       "      <th></th>\n",
       "    </tr>\n",
       "  </thead>\n",
       "  <tbody>\n",
       "    <tr>\n",
       "      <th>zerohoots3pac</th>\n",
       "      <td>68</td>\n",
       "    </tr>\n",
       "    <tr>\n",
       "      <th>shelbycowlesparker</th>\n",
       "      <td>68</td>\n",
       "    </tr>\n",
       "    <tr>\n",
       "      <th>owen_kung</th>\n",
       "      <td>67</td>\n",
       "    </tr>\n",
       "    <tr>\n",
       "      <th>zach_sf</th>\n",
       "      <td>32</td>\n",
       "    </tr>\n",
       "    <tr>\n",
       "      <th>yunglean2001</th>\n",
       "      <td>32</td>\n",
       "    </tr>\n",
       "    <tr>\n",
       "      <th>...</th>\n",
       "      <td>...</td>\n",
       "    </tr>\n",
       "    <tr>\n",
       "      <th>justin_russo_poop_eater_</th>\n",
       "      <td>1</td>\n",
       "    </tr>\n",
       "    <tr>\n",
       "      <th>jxxyy</th>\n",
       "      <td>1</td>\n",
       "    </tr>\n",
       "    <tr>\n",
       "      <th>k.ia</th>\n",
       "      <td>1</td>\n",
       "    </tr>\n",
       "    <tr>\n",
       "      <th>kade.savage.x</th>\n",
       "      <td>1</td>\n",
       "    </tr>\n",
       "    <tr>\n",
       "      <th>kamarhiah</th>\n",
       "      <td>1</td>\n",
       "    </tr>\n",
       "  </tbody>\n",
       "</table>\n",
       "<p>384 rows × 1 columns</p>\n",
       "</div>"
      ],
      "text/plain": [
       "                          timestamp\n",
       "accounts                           \n",
       "zerohoots3pac                    68\n",
       "shelbycowlesparker               68\n",
       "owen_kung                        67\n",
       "zach_sf                          32\n",
       "yunglean2001                     32\n",
       "...                             ...\n",
       "justin_russo_poop_eater_          1\n",
       "jxxyy                             1\n",
       "k.ia                              1\n",
       "kade.savage.x                     1\n",
       "kamarhiah                         1\n",
       "\n",
       "[384 rows x 1 columns]"
      ]
     },
     "execution_count": 41,
     "metadata": {},
     "output_type": "execute_result"
    }
   ],
   "source": [
    "like_count.sort_values('timestamp', ascending = False)"
   ]
  },
  {
   "cell_type": "markdown",
   "id": "2c8ff44c",
   "metadata": {},
   "source": [
    "Making it so the top liked accounts show first."
   ]
  },
  {
   "cell_type": "markdown",
   "id": "8902d782",
   "metadata": {},
   "source": [
    "## Conclusion\n",
    "I believe that over 50% of my Instagram activity has taken place before 2017. 3/5 of the top accounts that are displayed in the last DataFrame I do not even follow anymore, which is why I have formulated this hypothesis. I also believe that I do not use social media as much as I used to. Since \"activity\" is a broad term, there are many different files that were packaged in my Instagram data that could help me figure this out. The timestamps in each of the possible files (following, likes, comments, stories, etc.) are what would be able to tell me how much activity I was doing on Instagram before and after 2017.\n",
    "\n",
    "In conclusion, seeing the data sorted like this made me wonder how active I am on Instagram, and if before 2017, there was more activity on my account."
   ]
  }
 ],
 "metadata": {
  "kernelspec": {
   "display_name": "Python 3 (ipykernel)",
   "language": "python",
   "name": "python3"
  },
  "language_info": {
   "codemirror_mode": {
    "name": "ipython",
    "version": 3
   },
   "file_extension": ".py",
   "mimetype": "text/x-python",
   "name": "python",
   "nbconvert_exporter": "python",
   "pygments_lexer": "ipython3",
   "version": "3.10.4"
  }
 },
 "nbformat": 4,
 "nbformat_minor": 5
}
